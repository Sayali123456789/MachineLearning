{
  "nbformat": 4,
  "nbformat_minor": 0,
  "metadata": {
    "colab": {
      "provenance": []
    },
    "kernelspec": {
      "name": "python3",
      "display_name": "Python 3"
    },
    "language_info": {
      "name": "python"
    }
  },
  "cells": [
    {
      "cell_type": "code",
      "execution_count": 1,
      "metadata": {
        "id": "dSRdNMY6xZvS"
      },
      "outputs": [],
      "source": [
        "import numpy as np\n",
        "import pandas as pd\n",
        "import sklearn"
      ]
    },
    {
      "cell_type": "code",
      "source": [
        "from sklearn.datasets import load_boston\n",
        "df=load_boston()"
      ],
      "metadata": {
        "id": "m7ZFiFzx02E9"
      },
      "execution_count": null,
      "outputs": []
    },
    {
      "cell_type": "code",
      "source": [
        "df.keys()  #Return all the keys of the dataset dictionary"
      ],
      "metadata": {
        "id": "WpvlCgw00347"
      },
      "execution_count": null,
      "outputs": []
    },
    {
      "cell_type": "code",
      "source": [
        "print(df.DESCR)  #Info about the dataset"
      ],
      "metadata": {
        "id": "YVElKCGX07fT"
      },
      "execution_count": null,
      "outputs": []
    },
    {
      "cell_type": "code",
      "source": [
        "boston = pd.DataFrame(df.data,columns=df.feature_names)\n",
        "boston.head()"
      ],
      "metadata": {
        "id": "WfLfCVXP0-FT"
      },
      "execution_count": null,
      "outputs": []
    },
    {
      "cell_type": "code",
      "source": [
        "boston['MEDV']=df.target\n",
        "boston.head()"
      ],
      "metadata": {
        "id": "6KJRZw7H0_3S"
      },
      "execution_count": null,
      "outputs": []
    },
    {
      "cell_type": "code",
      "source": [
        "boston.isnull()"
      ],
      "metadata": {
        "id": "PKrubgU11B26"
      },
      "execution_count": null,
      "outputs": []
    },
    {
      "cell_type": "code",
      "source": [
        "boston.isnull().sum()"
      ],
      "metadata": {
        "id": "V08Zv8OA1Dlj"
      },
      "execution_count": null,
      "outputs": []
    },
    {
      "cell_type": "code",
      "source": [
        "from sklearn.model_selection import train_test_split\n",
        "X=boston.drop('MEDV',axis=1)\n",
        "Y=boston['MEDV']\n",
        "X_train,X_test,Y_train,Y_test=train_test_split(X,Y,test_size=0.15,random_state=5)\n",
        "print(X_train.shape)\n",
        "print(X_test.shape)\n",
        "print(Y_train.shape)\n",
        "print(Y_test.shape)"
      ],
      "metadata": {
        "id": "hJE3bcCK1FhC"
      },
      "execution_count": null,
      "outputs": []
    },
    {
      "cell_type": "code",
      "source": [
        "from sklearn.linear_model import LinearRegression\n",
        "from sklearn.metrics import mean_squared_error\n",
        "\n",
        "X=boston.drop('MEDV',axis=1)\n",
        "X_train,X_test,Y_train,Y_test=train_test_split(X,Y,test_size=0.15,random_state=5)"
      ],
      "metadata": {
        "id": "w7k0v79x1Hyj"
      },
      "execution_count": 10,
      "outputs": []
    },
    {
      "cell_type": "code",
      "source": [
        "## FITTING MODEL ON THE TRAINING DATASET\n",
        "\n",
        "lin_model = LinearRegression()\n",
        "lin_model.fit(X_train,Y_train)"
      ],
      "metadata": {
        "id": "_cqcZZxT1NBD"
      },
      "execution_count": null,
      "outputs": []
    },
    {
      "cell_type": "code",
      "source": [
        "y_train_predict=lin_model.predict(X_train)\n",
        "rmse = (np.sqrt(mean_squared_error(Y_train,y_train_predict)))\n",
        "\n",
        "print(\"The model performance for traing set\")\n",
        "print('RMSE is {}'.format(rmse))\n",
        "print(\"\\n\")\n",
        "\n",
        "#on testing set\n",
        "y_test_predict = lin_model.predict(X_test)\n",
        "rmse = (np.sqrt(mean_squared_error(Y_train,y_train_predict)))\n",
        "\n",
        "print(\"The model performance for traing set\")\n",
        "print('RMSE is {}'.format(rmse))"
      ],
      "metadata": {
        "id": "PmmjD8Ll1N1S"
      },
      "execution_count": null,
      "outputs": []
    },
    {
      "cell_type": "code",
      "source": [],
      "metadata": {
        "id": "HlGqll4L1iTy"
      },
      "execution_count": null,
      "outputs": []
    }
  ]
}